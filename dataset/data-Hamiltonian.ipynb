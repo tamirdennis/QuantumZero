{
 "cells": [
  {
   "cell_type": "code",
   "execution_count": 1,
   "metadata": {},
   "outputs": [
    {
     "name": "stdout",
     "output_type": "stream",
     "text": [
      "218\n"
     ]
    }
   ],
   "source": [
    "import numpy as np\n",
    "\n",
    "data=np.loadtxt('sat7.txt')\n",
    "resultc=data.tolist()\n",
    "print(len(resultc))"
   ]
  },
  {
   "cell_type": "code",
   "execution_count": 2,
   "metadata": {},
   "outputs": [],
   "source": [
    "def satSystem(n_qubit,result):\n",
    "    N=2**n_qubit\n",
    "\n",
    "\n",
    "    sx=np.array([[0,1],[1,0]])\n",
    "    si=np.array([[1,0],[0,1]])\n",
    "\n",
    "    HB=np.kron(si,si)\n",
    "    for i in range(n_qubit-2):\n",
    "        HB=np.kron(si,HB)\n",
    "    HB=n_qubit*HB/2\n",
    "\n",
    "    for j in range(n_qubit):\n",
    "        if j==0:\n",
    "            B=sx\n",
    "            for i in range(n_qubit-1-j):\n",
    "                B=np.kron(si,B) \n",
    "        else:    \n",
    "            for i in range(j):\n",
    "                if i==0:\n",
    "                    B=si \n",
    "                else: \n",
    "                    B=np.kron(si,B)  \n",
    "            B=np.kron(sx,B)   \n",
    "            for i in range(n_qubit-1-j):\n",
    "                B=np.kron(si,B)\n",
    "\n",
    "        HB=HB-B/2\n",
    "\n",
    "\n",
    "\n",
    "\n",
    "    HC= np.zeros((N,N))\n",
    "    for i in result:\n",
    "        HC[i,i]=HC[i,i]+1\n",
    "    HP=HC\n",
    "\n",
    "    return HB,HP"
   ]
  },
  {
   "cell_type": "code",
   "execution_count": 3,
   "metadata": {},
   "outputs": [
    {
     "name": "stdout",
     "output_type": "stream",
     "text": [
      "[[4. 0. 0. ... 0. 0. 0.]\n",
      " [0. 2. 0. ... 0. 0. 0.]\n",
      " [0. 0. 5. ... 0. 0. 0.]\n",
      " ...\n",
      " [0. 0. 0. ... 2. 0. 0.]\n",
      " [0. 0. 0. ... 0. 2. 0.]\n",
      " [0. 0. 0. ... 0. 0. 3.]]\n"
     ]
    }
   ],
   "source": [
    "n_qubit=7\n",
    "result=[int(x) for x in resultc[0]]\n",
    "HB,HP=satSystem(n_qubit,result)\n",
    "print(HP)"
   ]
  },
  {
   "cell_type": "code",
   "execution_count": null,
   "metadata": {},
   "outputs": [],
   "source": []
  }
 ],
 "metadata": {
  "kernelspec": {
   "display_name": "Python 3",
   "language": "python",
   "name": "python3"
  },
  "language_info": {
   "codemirror_mode": {
    "name": "ipython",
    "version": 3
   },
   "file_extension": ".py",
   "mimetype": "text/x-python",
   "name": "python",
   "nbconvert_exporter": "python",
   "pygments_lexer": "ipython3",
   "version": "3.6.5"
  }
 },
 "nbformat": 4,
 "nbformat_minor": 2
}
